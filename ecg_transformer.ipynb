{
 "cells": [
  {
   "cell_type": "code",
   "execution_count": 1,
   "metadata": {},
   "outputs": [
    {
     "name": "stderr",
     "output_type": "stream",
     "text": [
      "/home/phuc/.local/lib/python3.10/site-packages/pandas/core/computation/expressions.py:21: UserWarning: Pandas requires version '2.8.4' or newer of 'numexpr' (version '2.8.1' currently installed).\n",
      "  from pandas.core.computation.check import NUMEXPR_INSTALLED\n"
     ]
    }
   ],
   "source": [
    "import read_data as rd\n",
    "signals = rd.read_record(\"/home/phuc/university_of_science/ECG_Transformer/ecg_transformer/data/mit-bih-arrhythmia-database-1.0.0/100\")\n",
    "annotation = rd.read_annotate(\"/home/phuc/university_of_science/ECG_Transformer/ecg_transformer/data/mit-bih-arrhythmia-database-1.0.0/100\")\n",
    "#print(signals, annotation)"
   ]
  },
  {
   "cell_type": "code",
   "execution_count": 2,
   "metadata": {},
   "outputs": [
    {
     "name": "stdout",
     "output_type": "stream",
     "text": [
      "(array([    77,    370,    662, ..., 649484, 649734, 649991]), array(['N', 'N', 'N', ..., 'N', 'N', 'N'], dtype='<U1'))\n"
     ]
    }
   ],
   "source": [
    "import reprocessing as re_prcs\n",
    "annote = re_prcs.good_beat_annotations(annotation)\n",
    "annote"
   ]
  }
 ],
 "metadata": {
  "kernelspec": {
   "display_name": "Python 3",
   "language": "python",
   "name": "python3"
  },
  "language_info": {
   "codemirror_mode": {
    "name": "ipython",
    "version": 3
   },
   "file_extension": ".py",
   "mimetype": "text/x-python",
   "name": "python",
   "nbconvert_exporter": "python",
   "pygments_lexer": "ipython3",
   "version": "3.10.12"
  }
 },
 "nbformat": 4,
 "nbformat_minor": 2
}
