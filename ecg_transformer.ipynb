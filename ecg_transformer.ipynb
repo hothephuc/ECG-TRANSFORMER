{
 "cells": [
  {
   "cell_type": "code",
   "execution_count": 1,
   "metadata": {},
   "outputs": [
    {
     "name": "stderr",
     "output_type": "stream",
     "text": [
      "/home/phuc/.local/lib/python3.10/site-packages/pandas/core/computation/expressions.py:21: UserWarning: Pandas requires version '2.8.4' or newer of 'numexpr' (version '2.8.1' currently installed).\n",
      "  from pandas.core.computation.check import NUMEXPR_INSTALLED\n"
     ]
    }
   ],
   "source": [
    "import read_data as rd\n",
    "signals = rd.read_record(\"/home/phuc/university_of_science/ECG_Transformer/ECG-TRANSFORMER/data/mit-bih-arrhythmia-database-1.0.0/100\")\n",
    "annotation = rd.read_annotate(\"/home/phuc/university_of_science/ECG_Transformer/ECG-TRANSFORMER/data/mit-bih-arrhythmia-database-1.0.0/100\")\n",
    "#print(signals, annotation)"
   ]
  },
  {
   "cell_type": "code",
   "execution_count": 4,
   "metadata": {},
   "outputs": [
    {
     "name": "stdout",
     "output_type": "stream",
     "text": [
      "(array([  2044,  66792,  74986,  99579, 128085, 170719, 279576, 305709,\n",
      "       307745, 312825, 317785, 319223, 346804, 351481, 377081, 397335,\n",
      "       421994, 422818, 433841, 436149, 442623, 444705, 454651, 458168,\n",
      "       496712, 520982, 562812, 566259, 567379, 574429, 579448, 593068,\n",
      "       629171]), array(['A', 'A', 'A', 'A', 'A', 'A', 'A', 'A', 'A', 'A', 'A', 'A', 'A',\n",
      "       'A', 'A', 'A', 'A', 'A', 'A', 'A', 'A', 'A', 'A', 'A', 'A', 'A',\n",
      "       'A', 'A', 'A', 'A', 'A', 'A', 'A'], dtype='<U1'))\n"
     ]
    }
   ],
   "source": [
    "import reprocessing as re_prcs\n",
    "annote_normal_beats = re_prcs.beat_annotations(annotation)\n",
    "annote_supra_ven = re_prcs.supra_ven_beat_annotations(annotation)\n",
    "print(annote_supra_ven)"
   ]
  },
  {
   "cell_type": "code",
   "execution_count": 5,
   "metadata": {},
   "outputs": [
    {
     "name": "stdout",
     "output_type": "stream",
     "text": [
      "[[-0.145]\n",
      " [-0.145]\n",
      " [-0.145]\n",
      " ...\n",
      " [-0.675]\n",
      " [-0.765]\n",
      " [-1.28 ]]\n"
     ]
    }
   ],
   "source": [
    "print(signals)"
   ]
  }
 ],
 "metadata": {
  "kernelspec": {
   "display_name": "Python 3",
   "language": "python",
   "name": "python3"
  },
  "language_info": {
   "codemirror_mode": {
    "name": "ipython",
    "version": 3
   },
   "file_extension": ".py",
   "mimetype": "text/x-python",
   "name": "python",
   "nbconvert_exporter": "python",
   "pygments_lexer": "ipython3",
   "version": "3.10.12"
  }
 },
 "nbformat": 4,
 "nbformat_minor": 2
}
